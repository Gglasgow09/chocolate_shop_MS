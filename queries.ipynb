{
 "cells": [
  {
   "cell_type": "code",
   "execution_count": 2,
   "metadata": {},
   "outputs": [],
   "source": [
    "from sqlalchemy import func, desc\n",
    "from models import  Customer, Order, Chocolate, User, Role\n",
    "from app import Session\n",
    "from customer import add_new_customer\n",
    "from order import add_order\n"
   ]
  },
  {
   "cell_type": "code",
   "execution_count": 2,
   "metadata": {},
   "outputs": [],
   "source": [
    "session = Session()"
   ]
  },
  {
   "cell_type": "markdown",
   "metadata": {},
   "source": [
    "Adding new customers and orders"
   ]
  },
  {
   "cell_type": "code",
   "execution_count": null,
   "metadata": {},
   "outputs": [],
   "source": [
    "add_new_customer('Sally', 'Johnson', 'sallyj@example.com', '+17185237072', '110 Main Street Brooklyn NY, 11212')\n",
    "\n",
    "add_order(5, 1, [1, 2])  # This example shows customer with id 1 exists and chocolates with ids 1 and 2 exist"
   ]
  },
  {
   "cell_type": "markdown",
   "metadata": {},
   "source": [
    "get all users with admin role"
   ]
  },
  {
   "cell_type": "code",
   "execution_count": 11,
   "metadata": {},
   "outputs": [
    {
     "name": "stdout",
     "output_type": "stream",
     "text": [
      "Gabby Glasgow Gglasgow has admin privelages.\n",
      "Marlon Myers mmyers has admin privelages.\n"
     ]
    }
   ],
   "source": [
    "admin_users = session.query(User).filter(User.roles.any(Role.name == 'admin')).all()\n",
    "for user in admin_users:\n",
    "    print(f\"{user.first_name} {user.last_name} {user.username} has admin privelages.\")\n"
   ]
  },
  {
   "cell_type": "markdown",
   "metadata": {},
   "source": [
    "beginner queries "
   ]
  },
  {
   "cell_type": "markdown",
   "metadata": {},
   "source": [
    "Get all customerss"
   ]
  },
  {
   "cell_type": "code",
   "execution_count": 3,
   "metadata": {},
   "outputs": [
    {
     "name": "stdout",
     "output_type": "stream",
     "text": [
      "John Doe john@example.com\n",
      "Jane Doe jane@example.com\n",
      "Will Smith will@example.com\n",
      "Johnny Depp johnny@example.com\n",
      "Kenneth Small emilycabrera@example.org\n",
      "Joseph Mercer fgraves@example.com\n",
      "Marcus Miller ofox@example.com\n",
      "Andrew Bridges obrooks@example.org\n",
      "Erica Williams iluna@example.org\n",
      "Jeremiah Johnson fphillips@example.net\n",
      "William Daniels rollinschristopher@example.org\n",
      "Tyler Lindsey nortonjoseph@example.com\n",
      "Denise Barrett david17@example.net\n",
      "Brian Williams jeffrey34@example.com\n"
     ]
    }
   ],
   "source": [
    "customers = session.query(Customer).all()\n",
    "for customer in customers:\n",
    "    print(customer.first_name, customer.last_name, customer.email)\n"
   ]
  },
  {
   "cell_type": "markdown",
   "metadata": {},
   "source": [
    "where clause "
   ]
  },
  {
   "cell_type": "code",
   "execution_count": 4,
   "metadata": {},
   "outputs": [
    {
     "name": "stdout",
     "output_type": "stream",
     "text": [
      "John Doe john@example.com\n"
     ]
    }
   ],
   "source": [
    "customer = session.query(Customer).filter_by(first_name='John').first()\n",
    "print(customer.first_name, customer.last_name, customer.email)\n"
   ]
  },
  {
   "cell_type": "markdown",
   "metadata": {},
   "source": [
    "Orider By - Creates a list of customers ordere by their first names "
   ]
  },
  {
   "cell_type": "code",
   "execution_count": 5,
   "metadata": {},
   "outputs": [
    {
     "name": "stdout",
     "output_type": "stream",
     "text": [
      "Andrew Bridges obrooks@example.org\n",
      "Brian Williams jeffrey34@example.com\n",
      "Denise Barrett david17@example.net\n",
      "Erica Williams iluna@example.org\n",
      "Jane Doe jane@example.com\n",
      "Jeremiah Johnson fphillips@example.net\n",
      "John Doe john@example.com\n",
      "Johnny Depp johnny@example.com\n",
      "Joseph Mercer fgraves@example.com\n",
      "Kenneth Small emilycabrera@example.org\n",
      "Marcus Miller ofox@example.com\n",
      "Tyler Lindsey nortonjoseph@example.com\n",
      "Will Smith will@example.com\n",
      "William Daniels rollinschristopher@example.org\n"
     ]
    }
   ],
   "source": [
    "customers = session.query(Customer).order_by(Customer.first_name).all()\n",
    "for customer in customers:\n",
    "    print(customer.first_name, customer.last_name, customer.email)\n"
   ]
  },
  {
   "cell_type": "markdown",
   "metadata": {},
   "source": [
    "order by chocolate"
   ]
  },
  {
   "cell_type": "code",
   "execution_count": 6,
   "metadata": {},
   "outputs": [
    {
     "name": "stdout",
     "output_type": "stream",
     "text": [
      "Milk Chocolate 2.99 150\n",
      "Vegan Chocolate 2.99 150\n",
      "Dark Chocolate 3.99 150\n",
      "Blonde Chocolate 5.99 150\n",
      "White Chocolate 6.99 150\n",
      "Gianduja Chocolate 8.99 150\n",
      "Ruby Chocolate 9.99 150\n",
      "Raw Chocolate 10.99 150\n"
     ]
    }
   ],
   "source": [
    "chocolates = session.query(Chocolate).order_by(Chocolate.price).all()\n",
    "for chocolate in chocolates:\n",
    "    print(chocolate.name, chocolate.price, chocolate.inventory)"
   ]
  },
  {
   "cell_type": "markdown",
   "metadata": {},
   "source": [
    "Intermedate Queries "
   ]
  },
  {
   "cell_type": "code",
   "execution_count": 7,
   "metadata": {},
   "outputs": [
    {
     "name": "stdout",
     "output_type": "stream",
     "text": [
      "The top selling chocolate is Ruby Chocolate.\n"
     ]
    }
   ],
   "source": [
    "top_selling_chocolate = session.query(\n",
    "    Chocolate.name, \n",
    "    func.sum(Order.quantity).label('total')\n",
    ").join(\n",
    "    Order.chocolates\n",
    ").group_by(\n",
    "    Chocolate.name\n",
    ").order_by(\n",
    "    desc('total')\n",
    ").first()\n",
    "print(f\"The top selling chocolate is {top_selling_chocolate.name}.\")\n"
   ]
  },
  {
   "cell_type": "markdown",
   "metadata": {},
   "source": [
    "customers with the most orders"
   ]
  },
  {
   "cell_type": "code",
   "execution_count": 8,
   "metadata": {},
   "outputs": [
    {
     "name": "stdout",
     "output_type": "stream",
     "text": [
      "The customer with the most orders is Brian Williams.\n"
     ]
    }
   ],
   "source": [
    "customer_most_orders = session.query(\n",
    "    Customer.first_name, \n",
    "    Customer.last_name, \n",
    "    func.count(Order.id).label('total')\n",
    ").join(\n",
    "    Order.customer\n",
    ").group_by(\n",
    "    Customer.id\n",
    ").order_by(\n",
    "    desc('total')\n",
    ").first()\n",
    "print(f\"The customer with the most orders is {customer_most_orders.first_name} {customer_most_orders.last_name}.\")"
   ]
  },
  {
   "cell_type": "markdown",
   "metadata": {},
   "source": [
    "total revenue"
   ]
  },
  {
   "cell_type": "code",
   "execution_count": 9,
   "metadata": {},
   "outputs": [
    {
     "name": "stdout",
     "output_type": "stream",
     "text": [
      "The total revenue is $994.7.\n"
     ]
    }
   ],
   "source": [
    "total_revenue = session.query(\n",
    "    func.sum(Chocolate.price * Order.quantity)\n",
    ").join(\n",
    "    Order.chocolates\n",
    ").first()\n",
    "print(f\"The total revenue is ${total_revenue[0]}.\")"
   ]
  },
  {
   "cell_type": "markdown",
   "metadata": {},
   "source": [
    "Advanced "
   ]
  },
  {
   "cell_type": "markdown",
   "metadata": {},
   "source": [
    "top 3 customers with the most orders"
   ]
  },
  {
   "cell_type": "code",
   "execution_count": 10,
   "metadata": {},
   "outputs": [
    {
     "name": "stdout",
     "output_type": "stream",
     "text": [
      "Brian Williams has 2 orders.\n",
      "Jeremiah Johnson has 2 orders.\n",
      "Andrew Bridges has 2 orders.\n"
     ]
    }
   ],
   "source": [
    "top_customers = session.query(\n",
    "    Order.customer_id,\n",
    "    Customer.first_name,\n",
    "    Customer.last_name,\n",
    "    func.count(Order.id).label('order_count')\n",
    ").join(\n",
    "    Order\n",
    ").group_by(\n",
    "    Customer.id\n",
    ").order_by(\n",
    "    func.count(Order.id).desc()\n",
    ").limit(3).all()\n",
    "for customer in top_customers:\n",
    "    print(f\"{customer.first_name} {customer.last_name} has {customer.order_count} orders.\")\n"
   ]
  }
 ],
 "metadata": {
  "kernelspec": {
   "display_name": "Python 3",
   "language": "python",
   "name": "python3"
  },
  "language_info": {
   "codemirror_mode": {
    "name": "ipython",
    "version": 3
   },
   "file_extension": ".py",
   "mimetype": "text/x-python",
   "name": "python",
   "nbconvert_exporter": "python",
   "pygments_lexer": "ipython3",
   "version": "3.12.1"
  }
 },
 "nbformat": 4,
 "nbformat_minor": 2
}
